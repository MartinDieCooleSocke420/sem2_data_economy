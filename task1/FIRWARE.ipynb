{
 "cells": [
  {
   "cell_type": "markdown",
   "metadata": {},
   "source": [
    "# Data Science - Big Data Technologies 24 📊🔍\n",
    "\n",
    "## FIRWARE 📝\n",
    "\n",
    "This notebook represents my submission for the first exam part in Data Economy for the summer semester of 2024.\n",
    "\n",
    "### Authors 👥\n",
    "- **Martin Brucker** (942815) 🧑‍💻\n",
    "\n",
    "**Due**: 17.05.2024 at 23:59\n",
    "\n",
    "**Contact Information**: martin.brucker@student.fh-kiel.de 📧\n"
   ]
  },
  {
   "cell_type": "markdown",
   "metadata": {},
   "source": [
    "Create a Python program project in VS Code that will be used to simulate the status of parking \n",
    "spots and define a Dockerfile to generate a Docker image"
   ]
  },
  {
   "cell_type": "code",
   "execution_count": 1,
   "metadata": {},
   "outputs": [
    {
     "ename": "IndentationError",
     "evalue": "unexpected indent (1067641114.py, line 2)",
     "output_type": "error",
     "traceback": [
      "\u001b[0;36m  Cell \u001b[0;32mIn[1], line 2\u001b[0;36m\u001b[0m\n\u001b[0;31m    \"description\": \"Subscribe to all updates\",\u001b[0m\n\u001b[0m    ^\u001b[0m\n\u001b[0;31mIndentationError\u001b[0m\u001b[0;31m:\u001b[0m unexpected indent\n"
     ]
    }
   ],
   "source": []
  }
 ],
 "metadata": {
  "kernelspec": {
   "display_name": "Python 3",
   "language": "python",
   "name": "python3"
  },
  "language_info": {
   "codemirror_mode": {
    "name": "ipython",
    "version": 3
   },
   "file_extension": ".py",
   "mimetype": "text/x-python",
   "name": "python",
   "nbconvert_exporter": "python",
   "pygments_lexer": "ipython3",
   "version": "3.10.12"
  }
 },
 "nbformat": 4,
 "nbformat_minor": 2
}
